{
 "cells": [
  {
   "cell_type": "code",
   "execution_count": 2,
   "metadata": {
    "collapsed": true
   },
   "outputs": [],
   "source": [
    "# Import libraries\n",
    "using DataFrames, Gadfly;"
   ]
  },
  {
   "cell_type": "code",
   "execution_count": 3,
   "metadata": {
    "collapsed": false
   },
   "outputs": [
    {
     "data": {
      "text/html": [
       "<table class=\"data-frame\"><thead><tr><th></th><th>Country</th><th>Year</th><th>Quarter</th><th>AverageTemperature</th></tr></thead><tbody><tr><th>1</th><td>Poland</td><td>1880</td><td>Q1</td><td>-2.6680000000000006</td></tr><tr><th>2</th><td>Poland</td><td>1880</td><td>Q2</td><td>12.251</td></tr><tr><th>3</th><td>Poland</td><td>1880</td><td>Q3</td><td>16.903666666666666</td></tr><tr><th>4</th><td>Poland</td><td>1880</td><td>Q4</td><td>3.165333333333333</td></tr><tr><th>5</th><td>Poland</td><td>1798</td><td>Q1</td><td>-0.16100000000000003</td></tr><tr><th>6</th><td>Poland</td><td>1798</td><td>Q2</td><td>13.845333333333334</td></tr><tr><th>7</th><td>Poland</td><td>1798</td><td>Q3</td><td>17.954666666666668</td></tr><tr><th>8</th><td>Poland</td><td>1798</td><td>Q4</td><td>0.2159999999999996</td></tr><tr><th>9</th><td>Poland</td><td>1993</td><td>Q1</td><td>-0.15133333333333318</td></tr><tr><th>10</th><td>Poland</td><td>1993</td><td>Q2</td><td>13.551</td></tr><tr><th>11</th><td>Poland</td><td>1993</td><td>Q3</td><td>15.263</td></tr><tr><th>12</th><td>Poland</td><td>1993</td><td>Q4</td><td>2.661666666666666</td></tr><tr><th>13</th><td>Poland</td><td>1834</td><td>Q1</td><td>-0.539666666666667</td></tr><tr><th>14</th><td>Poland</td><td>1834</td><td>Q2</td><td>13.131666666666668</td></tr><tr><th>15</th><td>Poland</td><td>1834</td><td>Q3</td><td>19.08066666666667</td></tr><tr><th>16</th><td>Poland</td><td>1834</td><td>Q4</td><td>3.231</td></tr><tr><th>17</th><td>Poland</td><td>1990</td><td>Q1</td><td>4.207666666666666</td></tr><tr><th>18</th><td>Poland</td><td>1990</td><td>Q2</td><td>12.859</td></tr><tr><th>19</th><td>Poland</td><td>1990</td><td>Q3</td><td>15.557666666666668</td></tr><tr><th>20</th><td>Poland</td><td>1990</td><td>Q4</td><td>4.3023333333333325</td></tr><tr><th>21</th><td>Poland</td><td>1804</td><td>Q1</td><td>-2.1376666666666666</td></tr><tr><th>22</th><td>Poland</td><td>1804</td><td>Q2</td><td>12.292333333333334</td></tr><tr><th>23</th><td>Poland</td><td>1804</td><td>Q3</td><td>17.05333333333333</td></tr><tr><th>24</th><td>Poland</td><td>1804</td><td>Q4</td><td>0.18366666666666673</td></tr><tr><th>25</th><td>Poland</td><td>1827</td><td>Q1</td><td>-2.7873333333333328</td></tr><tr><th>26</th><td>Poland</td><td>1827</td><td>Q2</td><td>14.532333333333334</td></tr><tr><th>27</th><td>Poland</td><td>1827</td><td>Q3</td><td>16.672</td></tr><tr><th>28</th><td>Poland</td><td>1827</td><td>Q4</td><td>2.9599999999999995</td></tr><tr><th>29</th><td>Poland</td><td>1971</td><td>Q1</td><td>-1.8423333333333334</td></tr><tr><th>30</th><td>Poland</td><td>1971</td><td>Q2</td><td>12.683333333333332</td></tr><tr><th>&vellip;</th><td>&vellip;</td><td>&vellip;</td><td>&vellip;</td><td>&vellip;</td></tr></tbody></table>"
      ],
      "text/plain": [
       "214743×4 DataFrames.DataFrame\n",
       "│ Row    │ Country   │ Year │ Quarter │ AverageTemperature │\n",
       "├────────┼───────────┼──────┼─────────┼────────────────────┤\n",
       "│ 1      │ \"Poland\"  │ 1880 │ \"Q1\"    │ -2.668             │\n",
       "│ 2      │ \"Poland\"  │ 1880 │ \"Q2\"    │ 12.251             │\n",
       "│ 3      │ \"Poland\"  │ 1880 │ \"Q3\"    │ 16.9037            │\n",
       "│ 4      │ \"Poland\"  │ 1880 │ \"Q4\"    │ 3.16533            │\n",
       "│ 5      │ \"Poland\"  │ 1798 │ \"Q1\"    │ -0.161             │\n",
       "│ 6      │ \"Poland\"  │ 1798 │ \"Q2\"    │ 13.8453            │\n",
       "│ 7      │ \"Poland\"  │ 1798 │ \"Q3\"    │ 17.9547            │\n",
       "│ 8      │ \"Poland\"  │ 1798 │ \"Q4\"    │ 0.216              │\n",
       "│ 9      │ \"Poland\"  │ 1993 │ \"Q1\"    │ -0.151333          │\n",
       "│ 10     │ \"Poland\"  │ 1993 │ \"Q2\"    │ 13.551             │\n",
       "│ 11     │ \"Poland\"  │ 1993 │ \"Q3\"    │ 15.263             │\n",
       "⋮\n",
       "│ 214732 │ \"Ukraine\" │ 1743 │ \"Q2\"    │ 9999.0             │\n",
       "│ 214733 │ \"Ukraine\" │ 1743 │ \"Q3\"    │ 9999.0             │\n",
       "│ 214734 │ \"Ukraine\" │ 1743 │ \"Q4\"    │ 9999.0             │\n",
       "│ 214735 │ \"Ukraine\" │ 1743 │ \"Q1\"    │ 9999.0             │\n",
       "│ 214736 │ \"Ukraine\" │ 1743 │ \"Q2\"    │ 9999.0             │\n",
       "│ 214737 │ \"Ukraine\" │ 1743 │ \"Q3\"    │ 9999.0             │\n",
       "│ 214738 │ \"Ukraine\" │ 1743 │ \"Q4\"    │ 9999.0             │\n",
       "│ 214739 │ \"Ukraine\" │ 1743 │ \"Q1\"    │ 9999.0             │\n",
       "│ 214740 │ \"Ukraine\" │ 1743 │ \"Q2\"    │ 9999.0             │\n",
       "│ 214741 │ \"Ukraine\" │ 1743 │ \"Q3\"    │ 9999.0             │\n",
       "│ 214742 │ \"Ukraine\" │ 1743 │ \"Q4\"    │ 9999.0             │\n",
       "│ 214743 │ \"Ukraine\" │ 1743 │ \"Q4\"    │ 1.898              │"
      ]
     },
     "execution_count": 3,
     "metadata": {},
     "output_type": "execute_result"
    }
   ],
   "source": [
    "# Import data\n",
    "tData = readtable(\"averageTempByCountry.csv\")"
   ]
  },
  {
   "cell_type": "code",
   "execution_count": 4,
   "metadata": {
    "collapsed": true
   },
   "outputs": [],
   "source": [
    "years = Set(tData[:Year]);\n",
    "quart = Set(tData[:Quarter]);"
   ]
  },
  {
   "cell_type": "code",
   "execution_count": 7,
   "metadata": {
    "collapsed": false
   },
   "outputs": [],
   "source": [
    "avgt = Float64[];\n",
    "yn = Float64[];\n",
    "qn = String[];\n",
    "\n",
    "\n",
    "for y in years\n",
    "    for q in quart\n",
    "        yData = tData[ (tData[:Year] .== y), :];\n",
    "        qData = yData[ (yData[:Quarter] .== q), :];\n",
    "        nData = qData[ (qData[:AverageTemperature] .< 9999), :];\n",
    "    if nrow(nData) > 0 \n",
    "        m = sum(nData[4]);\n",
    "        mean = m / nrow(nData);\n",
    "        append!(avgt, [mean]);\n",
    "        append!(yn,y);\n",
    "        append!(qn, [q]);\n",
    "\n",
    "    else\n",
    "        append!(avgt, [0]);\n",
    "        append!(yn, y);\n",
    "        append!(qn, [q]);\n",
    "    end\n",
    "    end\n",
    "end\n"
   ]
  },
  {
   "cell_type": "code",
   "execution_count": 22,
   "metadata": {
    "collapsed": false
   },
   "outputs": [],
   "source": [
    "dateDF = DataFrame( Year = yn, Quarter = qn, AverageTemperature = avgt);\n",
    "dateDF = dateDF[ (dateDF[:Year] .>= 1900), :];\n",
    "dateDF = dateDF[ (dateDF[:Year] .<= 2000), :];"
   ]
  },
  {
   "cell_type": "code",
   "execution_count": 23,
   "metadata": {
    "collapsed": false
   },
   "outputs": [
    {
     "data": {
      "text/html": [
       "<table class=\"data-frame\"><thead><tr><th></th><th>Year</th><th>Quarter</th><th>AverageTemperature</th></tr></thead><tbody><tr><th>1</th><td>1900.0</td><td>Q1</td><td>14.64122735042735</td></tr><tr><th>2</th><td>1900.0</td><td>Q2</td><td>20.38481292517007</td></tr><tr><th>3</th><td>1900.0</td><td>Q3</td><td>22.318370748299326</td></tr><tr><th>4</th><td>1900.0</td><td>Q4</td><td>16.857119658119657</td></tr><tr><th>5</th><td>1901.0</td><td>Q1</td><td>14.50840341880342</td></tr><tr><th>6</th><td>1901.0</td><td>Q2</td><td>20.595607142857148</td></tr><tr><th>7</th><td>1901.0</td><td>Q3</td><td>22.416329931972786</td></tr><tr><th>8</th><td>1901.0</td><td>Q4</td><td>16.488935374149666</td></tr><tr><th>9</th><td>1902.0</td><td>Q1</td><td>14.966699829931972</td></tr><tr><th>10</th><td>1902.0</td><td>Q2</td><td>20.184452991452993</td></tr><tr><th>11</th><td>1902.0</td><td>Q3</td><td>22.112301020408164</td></tr><tr><th>12</th><td>1902.0</td><td>Q4</td><td>16.110534013605445</td></tr><tr><th>13</th><td>1903.0</td><td>Q1</td><td>15.03252356902357</td></tr><tr><th>14</th><td>1903.0</td><td>Q2</td><td>20.246166666666667</td></tr><tr><th>15</th><td>1903.0</td><td>Q3</td><td>22.08371717171717</td></tr><tr><th>16</th><td>1903.0</td><td>Q4</td><td>16.401227272727272</td></tr><tr><th>17</th><td>1904.0</td><td>Q1</td><td>14.435533670033674</td></tr><tr><th>18</th><td>1904.0</td><td>Q2</td><td>20.097664983164986</td></tr><tr><th>19</th><td>1904.0</td><td>Q3</td><td>21.988823232323234</td></tr><tr><th>20</th><td>1904.0</td><td>Q4</td><td>16.396526936026934</td></tr><tr><th>21</th><td>1905.0</td><td>Q1</td><td>14.180060606060604</td></tr><tr><th>22</th><td>1905.0</td><td>Q2</td><td>20.31510606060606</td></tr><tr><th>23</th><td>1905.0</td><td>Q3</td><td>22.371361952861957</td></tr><tr><th>24</th><td>1905.0</td><td>Q4</td><td>16.733670033670037</td></tr><tr><th>25</th><td>1906.0</td><td>Q1</td><td>14.727213804713806</td></tr><tr><th>26</th><td>1906.0</td><td>Q2</td><td>20.411914141414144</td></tr><tr><th>27</th><td>1906.0</td><td>Q3</td><td>22.108424242424242</td></tr><tr><th>28</th><td>1906.0</td><td>Q4</td><td>16.669405723905726</td></tr><tr><th>29</th><td>1907.0</td><td>Q1</td><td>14.121303030303032</td></tr><tr><th>30</th><td>1907.0</td><td>Q2</td><td>19.962006734006735</td></tr><tr><th>&vellip;</th><td>&vellip;</td><td>&vellip;</td><td>&vellip;</td></tr></tbody></table>"
      ],
      "text/plain": [
       "404×3 DataFrames.DataFrame\n",
       "│ Row │ Year   │ Quarter │ AverageTemperature │\n",
       "├─────┼────────┼─────────┼────────────────────┤\n",
       "│ 1   │ 1900.0 │ \"Q1\"    │ 14.6412            │\n",
       "│ 2   │ 1900.0 │ \"Q2\"    │ 20.3848            │\n",
       "│ 3   │ 1900.0 │ \"Q3\"    │ 22.3184            │\n",
       "│ 4   │ 1900.0 │ \"Q4\"    │ 16.8571            │\n",
       "│ 5   │ 1901.0 │ \"Q1\"    │ 14.5084            │\n",
       "│ 6   │ 1901.0 │ \"Q2\"    │ 20.5956            │\n",
       "│ 7   │ 1901.0 │ \"Q3\"    │ 22.4163            │\n",
       "│ 8   │ 1901.0 │ \"Q4\"    │ 16.4889            │\n",
       "│ 9   │ 1902.0 │ \"Q1\"    │ 14.9667            │\n",
       "│ 10  │ 1902.0 │ \"Q2\"    │ 20.1845            │\n",
       "│ 11  │ 1902.0 │ \"Q3\"    │ 22.1123            │\n",
       "⋮\n",
       "│ 393 │ 1998.0 │ \"Q1\"    │ 16.2808            │\n",
       "│ 394 │ 1998.0 │ \"Q2\"    │ 21.8224            │\n",
       "│ 395 │ 1998.0 │ \"Q3\"    │ 23.3381            │\n",
       "│ 396 │ 1998.0 │ \"Q4\"    │ 17.5437            │\n",
       "│ 397 │ 1999.0 │ \"Q1\"    │ 15.9792            │\n",
       "│ 398 │ 1999.0 │ \"Q2\"    │ 21.4623            │\n",
       "│ 399 │ 1999.0 │ \"Q3\"    │ 23.2554            │\n",
       "│ 400 │ 1999.0 │ \"Q4\"    │ 17.4661            │\n",
       "│ 401 │ 2000.0 │ \"Q1\"    │ 15.6534            │\n",
       "│ 402 │ 2000.0 │ \"Q2\"    │ 21.609             │\n",
       "│ 403 │ 2000.0 │ \"Q3\"    │ 23.0566            │\n",
       "│ 404 │ 2000.0 │ \"Q4\"    │ 17.7018            │"
      ]
     },
     "execution_count": 23,
     "metadata": {},
     "output_type": "execute_result"
    }
   ],
   "source": [
    "sort(dateDF, cols = (:Year,  :Quarter))"
   ]
  },
  {
   "cell_type": "code",
   "execution_count": 24,
   "metadata": {
    "collapsed": true
   },
   "outputs": [],
   "source": [
    "# Write new file\n",
    "writetable(\"averageByYQ.csv\", dateDF)"
   ]
  },
  {
   "cell_type": "code",
   "execution_count": null,
   "metadata": {
    "collapsed": true
   },
   "outputs": [],
   "source": []
  }
 ],
 "metadata": {
  "kernelspec": {
   "display_name": "Julia 0.6.0",
   "language": "julia",
   "name": "julia-0.6"
  },
  "language_info": {
   "file_extension": ".jl",
   "mimetype": "application/julia",
   "name": "julia",
   "version": "0.6.0"
  }
 },
 "nbformat": 4,
 "nbformat_minor": 0
}
