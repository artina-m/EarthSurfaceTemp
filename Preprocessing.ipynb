{
 "cells": [
  {
   "cell_type": "markdown",
   "metadata": {},
   "source": [
    "### Preprocessing Data File\n",
    "Data: GlobalLandTemperaturesByCountry.csv & CountryGeo.csv <br>\n",
    "Output File: globalData.csv"
   ]
  },
  {
   "cell_type": "code",
   "execution_count": 1,
   "metadata": {
    "collapsed": true
   },
   "outputs": [],
   "source": [
    "# Import libraries\n",
    "using DataFrames, Gadfly;"
   ]
  },
  {
   "cell_type": "code",
   "execution_count": 7,
   "metadata": {
    "collapsed": false
   },
   "outputs": [
    {
     "ename": "LoadError",
     "evalue": "\u001b[91mBoundsError: attempt to access 0-element Array{UInt8,1} at index [1]\u001b[39m",
     "output_type": "error",
     "traceback": [
      "\u001b[91mBoundsError: attempt to access 0-element Array{UInt8,1} at index [1]\u001b[39m",
      "",
      "Stacktrace:",
      " [1] \u001b[1mreadnrows!\u001b[22m\u001b[22m\u001b[1m(\u001b[22m\u001b[22m::DataFrames.ParsedCSV, ::IOStream, ::Int64, ::DataFrames.ParseOptions{String,String}, ::DataFrames.ParseType{false,true,false,false}, ::UInt8\u001b[1m)\u001b[22m\u001b[22m at \u001b[1m/Users/artinamaloki1/.julia/v0.6/DataFrames/src/dataframe/io.jl:170\u001b[22m\u001b[22m",
      " [2] \u001b[1mreadtable!\u001b[22m\u001b[22m\u001b[1m(\u001b[22m\u001b[22m::DataFrames.ParsedCSV, ::IOStream, ::Int64, ::DataFrames.ParseOptions{String,String}\u001b[1m)\u001b[22m\u001b[22m at \u001b[1m/Users/artinamaloki1/.julia/v0.6/DataFrames/src/dataframe/io.jl:760\u001b[22m\u001b[22m",
      " [3] \u001b[1m#readtable#84\u001b[22m\u001b[22m\u001b[1m(\u001b[22m\u001b[22m::Bool, ::Char, ::Array{Char,1}, ::Char, ::Array{String,1}, ::Array{String,1}, ::Array{String,1}, ::Bool, ::Int64, ::Array{Symbol,1}, ::Array{Any,1}, ::Bool, ::Char, ::Bool, ::Int64, ::Array{Int64,1}, ::Bool, ::Symbol, ::Bool, ::Bool, ::DataFrames.#readtable, ::IOStream, ::Int64\u001b[1m)\u001b[22m\u001b[22m at \u001b[1m/Users/artinamaloki1/.julia/v0.6/DataFrames/src/dataframe/io.jl:851\u001b[22m\u001b[22m",
      " [4] \u001b[1m(::DataFrames.#kw##readtable)\u001b[22m\u001b[22m\u001b[1m(\u001b[22m\u001b[22m::Array{Any,1}, ::DataFrames.#readtable, ::IOStream, ::Int64\u001b[1m)\u001b[22m\u001b[22m at \u001b[1m./<missing>:0\u001b[22m\u001b[22m",
      " [5] \u001b[1m#readtable#85\u001b[22m\u001b[22m\u001b[1m(\u001b[22m\u001b[22m::Bool, ::Char, ::Array{Char,1}, ::Char, ::Array{String,1}, ::Array{String,1}, ::Array{String,1}, ::Bool, ::Int64, ::Array{Symbol,1}, ::Array{Any,1}, ::Bool, ::Char, ::Bool, ::Int64, ::Array{Int64,1}, ::Bool, ::Symbol, ::Bool, ::Bool, ::DataFrames.#readtable, ::String\u001b[1m)\u001b[22m\u001b[22m at \u001b[1m/Users/artinamaloki1/.julia/v0.6/DataFrames/src/dataframe/io.jl:945\u001b[22m\u001b[22m",
      " [6] \u001b[1mreadtable\u001b[22m\u001b[22m\u001b[1m(\u001b[22m\u001b[22m::String\u001b[1m)\u001b[22m\u001b[22m at \u001b[1m/Users/artinamaloki1/.julia/v0.6/DataFrames/src/dataframe/io.jl:930\u001b[22m\u001b[22m",
      " [7] \u001b[1minclude_string\u001b[22m\u001b[22m\u001b[1m(\u001b[22m\u001b[22m::String, ::String\u001b[1m)\u001b[22m\u001b[22m at \u001b[1m./loading.jl:515\u001b[22m\u001b[22m"
     ]
    }
   ],
   "source": [
    "# Import data\n",
    "tData = readtable(\"GlobalLandTemperaturesByCountry.csv\");"
   ]
  },
  {
   "cell_type": "markdown",
   "metadata": {},
   "source": [
    "**Clean data**: Remove rows with no entries and remove countries without longitude and latitiude data from CountryData.csv"
   ]
  },
  {
   "cell_type": "code",
   "execution_count": 5,
   "metadata": {
    "collapsed": false
   },
   "outputs": [
    {
     "ename": "LoadError",
     "evalue": "\u001b[91mUndefVarError: tData not defined\u001b[39m",
     "output_type": "error",
     "traceback": [
      "\u001b[91mUndefVarError: tData not defined\u001b[39m",
      "",
      "Stacktrace:",
      " [1] \u001b[1minclude_string\u001b[22m\u001b[22m\u001b[1m(\u001b[22m\u001b[22m::String, ::String\u001b[1m)\u001b[22m\u001b[22m at \u001b[1m./loading.jl:515\u001b[22m\u001b[22m"
     ]
    }
   ],
   "source": [
    "tData = tData[!isna(tData[:AverageTemperature]), :];"
   ]
  },
  {
   "cell_type": "code",
   "execution_count": 8,
   "metadata": {
    "collapsed": false
   },
   "outputs": [],
   "source": [
    "cData = readtable(\"CountryGeo.csv\");"
   ]
  },
  {
   "cell_type": "code",
   "execution_count": 9,
   "metadata": {
    "collapsed": false
   },
   "outputs": [],
   "source": [
    "countries = cData[:name].data;"
   ]
  },
  {
   "cell_type": "code",
   "execution_count": 11,
   "metadata": {
    "collapsed": false
   },
   "outputs": [
    {
     "data": {
      "text/html": [
       "<table class=\"data-frame\"><thead><tr><th></th><th>dt</th><th>AverageTemperature</th><th>AverageTemperatureUncertainty</th><th>Country</th></tr></thead><tbody><tr><th>1</th><td>1838-04-01</td><td>13.008</td><td>2.5860000000000003</td><td>Afghanistan</td></tr><tr><th>2</th><td>1838-06-01</td><td>23.95</td><td>2.51</td><td>Afghanistan</td></tr><tr><th>3</th><td>1838-07-01</td><td>26.877</td><td>2.883</td><td>Afghanistan</td></tr><tr><th>4</th><td>1838-08-01</td><td>24.938</td><td>2.992</td><td>Afghanistan</td></tr><tr><th>5</th><td>1838-09-01</td><td>18.981</td><td>2.5380000000000003</td><td>Afghanistan</td></tr><tr><th>6</th><td>1838-10-01</td><td>13.427999999999999</td><td>3.039</td><td>Afghanistan</td></tr><tr><th>7</th><td>1838-11-01</td><td>7.475</td><td>2.744</td><td>Afghanistan</td></tr><tr><th>8</th><td>1840-01-01</td><td>0.735</td><td>2.492</td><td>Afghanistan</td></tr><tr><th>9</th><td>1840-02-01</td><td>1.6609999999999998</td><td>2.563</td><td>Afghanistan</td></tr><tr><th>10</th><td>1840-03-01</td><td>6.513000000000001</td><td>2.402</td><td>Afghanistan</td></tr><tr><th>11</th><td>1840-04-01</td><td>13.965</td><td>2.617</td><td>Afghanistan</td></tr><tr><th>12</th><td>1840-05-01</td><td>19.618</td><td>2.516</td><td>Afghanistan</td></tr><tr><th>13</th><td>1840-06-01</td><td>24.812</td><td>2.466</td><td>Afghanistan</td></tr><tr><th>14</th><td>1840-07-01</td><td>27.739</td><td>2.353</td><td>Afghanistan</td></tr><tr><th>15</th><td>1840-08-01</td><td>24.811999999999998</td><td>2.343</td><td>Afghanistan</td></tr><tr><th>16</th><td>1840-09-01</td><td>18.989</td><td>2.366</td><td>Afghanistan</td></tr><tr><th>17</th><td>1840-11-01</td><td>6.773</td><td>2.862</td><td>Afghanistan</td></tr><tr><th>18</th><td>1840-12-01</td><td>1.931</td><td>2.542</td><td>Afghanistan</td></tr><tr><th>19</th><td>1841-01-01</td><td>-0.8830000000000001</td><td>2.471</td><td>Afghanistan</td></tr><tr><th>20</th><td>1841-03-01</td><td>5.521000000000001</td><td>3.008</td><td>Afghanistan</td></tr><tr><th>21</th><td>1841-04-01</td><td>12.556</td><td>2.423</td><td>Afghanistan</td></tr><tr><th>22</th><td>1841-05-01</td><td>19.614</td><td>2.322</td><td>Afghanistan</td></tr><tr><th>23</th><td>1841-06-01</td><td>24.251</td><td>2.358</td><td>Afghanistan</td></tr><tr><th>24</th><td>1841-07-01</td><td>27.104</td><td>2.445</td><td>Afghanistan</td></tr><tr><th>25</th><td>1841-08-01</td><td>24.686999999999998</td><td>2.423</td><td>Afghanistan</td></tr><tr><th>26</th><td>1841-09-01</td><td>19.014</td><td>2.325</td><td>Afghanistan</td></tr><tr><th>27</th><td>1841-11-01</td><td>6.754</td><td>2.332</td><td>Afghanistan</td></tr><tr><th>28</th><td>1841-12-01</td><td>1.3580000000000003</td><td>2.414</td><td>Afghanistan</td></tr><tr><th>29</th><td>1842-03-01</td><td>9.488999999999999</td><td>2.6910000000000003</td><td>Afghanistan</td></tr><tr><th>30</th><td>1842-04-01</td><td>14.983</td><td>2.428</td><td>Afghanistan</td></tr><tr><th>&vellip;</th><td>&vellip;</td><td>&vellip;</td><td>&vellip;</td><td>&vellip;</td></tr></tbody></table>"
      ],
      "text/plain": [
       "448676×4 DataFrames.DataFrame\n",
       "│ Row    │ dt           │ AverageTemperature │ AverageTemperatureUncertainty │\n",
       "├────────┼──────────────┼────────────────────┼───────────────────────────────┤\n",
       "│ 1      │ \"1838-04-01\" │ 13.008             │ 2.586                         │\n",
       "│ 2      │ \"1838-06-01\" │ 23.95              │ 2.51                          │\n",
       "│ 3      │ \"1838-07-01\" │ 26.877             │ 2.883                         │\n",
       "│ 4      │ \"1838-08-01\" │ 24.938             │ 2.992                         │\n",
       "│ 5      │ \"1838-09-01\" │ 18.981             │ 2.538                         │\n",
       "│ 6      │ \"1838-10-01\" │ 13.428             │ 3.039                         │\n",
       "│ 7      │ \"1838-11-01\" │ 7.475              │ 2.744                         │\n",
       "│ 8      │ \"1840-01-01\" │ 0.735              │ 2.492                         │\n",
       "│ 9      │ \"1840-02-01\" │ 1.661              │ 2.563                         │\n",
       "│ 10     │ \"1840-03-01\" │ 6.513              │ 2.402                         │\n",
       "│ 11     │ \"1840-04-01\" │ 13.965             │ 2.617                         │\n",
       "⋮\n",
       "│ 448665 │ \"2012-09-01\" │ 22.609             │ 0.643                         │\n",
       "│ 448666 │ \"2012-10-01\" │ 23.482             │ 0.574                         │\n",
       "│ 448667 │ \"2012-11-01\" │ 24.606             │ 0.532                         │\n",
       "│ 448668 │ \"2012-12-01\" │ 24.111             │ 0.846                         │\n",
       "│ 448669 │ \"2013-01-01\" │ 23.812             │ 1.218                         │\n",
       "│ 448670 │ \"2013-02-01\" │ 24.075             │ 1.286                         │\n",
       "│ 448671 │ \"2013-03-01\" │ 23.226             │ 0.564                         │\n",
       "│ 448672 │ \"2013-04-01\" │ 21.142             │ 0.495                         │\n",
       "│ 448673 │ \"2013-05-01\" │ 19.059             │ 1.022                         │\n",
       "│ 448674 │ \"2013-06-01\" │ 17.613             │ 0.473                         │\n",
       "│ 448675 │ \"2013-07-01\" │ 17.0               │ 0.453                         │\n",
       "│ 448676 │ \"2013-08-01\" │ 19.759             │ 0.717                         │\n",
       "\n",
       "│ Row    │ Country       │\n",
       "├────────┼───────────────┤\n",
       "│ 1      │ \"Afghanistan\" │\n",
       "│ 2      │ \"Afghanistan\" │\n",
       "│ 3      │ \"Afghanistan\" │\n",
       "│ 4      │ \"Afghanistan\" │\n",
       "│ 5      │ \"Afghanistan\" │\n",
       "│ 6      │ \"Afghanistan\" │\n",
       "│ 7      │ \"Afghanistan\" │\n",
       "│ 8      │ \"Afghanistan\" │\n",
       "│ 9      │ \"Afghanistan\" │\n",
       "│ 10     │ \"Afghanistan\" │\n",
       "│ 11     │ \"Afghanistan\" │\n",
       "⋮\n",
       "│ 448665 │ \"Zimbabwe\"    │\n",
       "│ 448666 │ \"Zimbabwe\"    │\n",
       "│ 448667 │ \"Zimbabwe\"    │\n",
       "│ 448668 │ \"Zimbabwe\"    │\n",
       "│ 448669 │ \"Zimbabwe\"    │\n",
       "│ 448670 │ \"Zimbabwe\"    │\n",
       "│ 448671 │ \"Zimbabwe\"    │\n",
       "│ 448672 │ \"Zimbabwe\"    │\n",
       "│ 448673 │ \"Zimbabwe\"    │\n",
       "│ 448674 │ \"Zimbabwe\"    │\n",
       "│ 448675 │ \"Zimbabwe\"    │\n",
       "│ 448676 │ \"Zimbabwe\"    │"
      ]
     },
     "execution_count": 11,
     "metadata": {},
     "output_type": "execute_result"
    }
   ],
   "source": [
    "tData = tData[ findin(tData[:Country], countries), :];"
   ]
  },
  {
   "cell_type": "code",
   "execution_count": 29,
   "metadata": {
    "collapsed": false
   },
   "outputs": [],
   "source": [
    "# Write new file\n",
    "writetable(\"globalData.csv\", tData)"
   ]
  }
 ],
 "metadata": {
  "kernelspec": {
   "display_name": "Julia 0.6.0",
   "language": "julia",
   "name": "julia-0.6"
  },
  "language_info": {
   "file_extension": ".jl",
   "mimetype": "application/julia",
   "name": "julia",
   "version": "0.6.0"
  }
 },
 "nbformat": 4,
 "nbformat_minor": 0
}
