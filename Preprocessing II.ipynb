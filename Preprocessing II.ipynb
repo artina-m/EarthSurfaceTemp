{
 "cells": [
  {
   "cell_type": "code",
   "execution_count": 1,
   "metadata": {
    "collapsed": true
   },
   "outputs": [],
   "source": [
    "# Import libraries\n",
    "using DataFrames, Gadfly;"
   ]
  },
  {
   "cell_type": "code",
   "execution_count": 2,
   "metadata": {
    "collapsed": false
   },
   "outputs": [
    {
     "data": {
      "text/html": [
       "<table class=\"data-frame\"><thead><tr><th></th><th>dt</th><th>AverageTemperature</th><th>AverageTemperatureUncertainty</th><th>Country</th></tr></thead><tbody><tr><th>1</th><td>1838-04-01</td><td>13.008</td><td>2.5860000000000003</td><td>Afghanistan</td></tr><tr><th>2</th><td>1838-06-01</td><td>23.95</td><td>2.51</td><td>Afghanistan</td></tr><tr><th>3</th><td>1838-07-01</td><td>26.877</td><td>2.883</td><td>Afghanistan</td></tr><tr><th>4</th><td>1838-08-01</td><td>24.938</td><td>2.992</td><td>Afghanistan</td></tr><tr><th>5</th><td>1838-09-01</td><td>18.981</td><td>2.5380000000000003</td><td>Afghanistan</td></tr><tr><th>6</th><td>1838-10-01</td><td>13.427999999999999</td><td>3.039</td><td>Afghanistan</td></tr><tr><th>7</th><td>1838-11-01</td><td>7.475</td><td>2.744</td><td>Afghanistan</td></tr><tr><th>8</th><td>1840-01-01</td><td>0.735</td><td>2.492</td><td>Afghanistan</td></tr><tr><th>9</th><td>1840-02-01</td><td>1.6609999999999998</td><td>2.563</td><td>Afghanistan</td></tr><tr><th>10</th><td>1840-03-01</td><td>6.513000000000001</td><td>2.402</td><td>Afghanistan</td></tr><tr><th>11</th><td>1840-04-01</td><td>13.965</td><td>2.617</td><td>Afghanistan</td></tr><tr><th>12</th><td>1840-05-01</td><td>19.618</td><td>2.516</td><td>Afghanistan</td></tr><tr><th>13</th><td>1840-06-01</td><td>24.812</td><td>2.466</td><td>Afghanistan</td></tr><tr><th>14</th><td>1840-07-01</td><td>27.739</td><td>2.353</td><td>Afghanistan</td></tr><tr><th>15</th><td>1840-08-01</td><td>24.811999999999998</td><td>2.343</td><td>Afghanistan</td></tr><tr><th>16</th><td>1840-09-01</td><td>18.989</td><td>2.366</td><td>Afghanistan</td></tr><tr><th>17</th><td>1840-11-01</td><td>6.773</td><td>2.862</td><td>Afghanistan</td></tr><tr><th>18</th><td>1840-12-01</td><td>1.931</td><td>2.542</td><td>Afghanistan</td></tr><tr><th>19</th><td>1841-01-01</td><td>-0.8830000000000001</td><td>2.471</td><td>Afghanistan</td></tr><tr><th>20</th><td>1841-03-01</td><td>5.521000000000001</td><td>3.008</td><td>Afghanistan</td></tr><tr><th>21</th><td>1841-04-01</td><td>12.556</td><td>2.423</td><td>Afghanistan</td></tr><tr><th>22</th><td>1841-05-01</td><td>19.614</td><td>2.322</td><td>Afghanistan</td></tr><tr><th>23</th><td>1841-06-01</td><td>24.251</td><td>2.358</td><td>Afghanistan</td></tr><tr><th>24</th><td>1841-07-01</td><td>27.104</td><td>2.445</td><td>Afghanistan</td></tr><tr><th>25</th><td>1841-08-01</td><td>24.686999999999998</td><td>2.423</td><td>Afghanistan</td></tr><tr><th>26</th><td>1841-09-01</td><td>19.014</td><td>2.325</td><td>Afghanistan</td></tr><tr><th>27</th><td>1841-11-01</td><td>6.754</td><td>2.332</td><td>Afghanistan</td></tr><tr><th>28</th><td>1841-12-01</td><td>1.3580000000000003</td><td>2.414</td><td>Afghanistan</td></tr><tr><th>29</th><td>1842-03-01</td><td>9.488999999999999</td><td>2.6910000000000003</td><td>Afghanistan</td></tr><tr><th>30</th><td>1842-04-01</td><td>14.983</td><td>2.428</td><td>Afghanistan</td></tr><tr><th>&vellip;</th><td>&vellip;</td><td>&vellip;</td><td>&vellip;</td><td>&vellip;</td></tr></tbody></table>"
      ],
      "text/plain": [
       "448676×4 DataFrames.DataFrame\n",
       "│ Row    │ dt           │ AverageTemperature │ AverageTemperatureUncertainty │\n",
       "├────────┼──────────────┼────────────────────┼───────────────────────────────┤\n",
       "│ 1      │ \"1838-04-01\" │ 13.008             │ 2.586                         │\n",
       "│ 2      │ \"1838-06-01\" │ 23.95              │ 2.51                          │\n",
       "│ 3      │ \"1838-07-01\" │ 26.877             │ 2.883                         │\n",
       "│ 4      │ \"1838-08-01\" │ 24.938             │ 2.992                         │\n",
       "│ 5      │ \"1838-09-01\" │ 18.981             │ 2.538                         │\n",
       "│ 6      │ \"1838-10-01\" │ 13.428             │ 3.039                         │\n",
       "│ 7      │ \"1838-11-01\" │ 7.475              │ 2.744                         │\n",
       "│ 8      │ \"1840-01-01\" │ 0.735              │ 2.492                         │\n",
       "│ 9      │ \"1840-02-01\" │ 1.661              │ 2.563                         │\n",
       "│ 10     │ \"1840-03-01\" │ 6.513              │ 2.402                         │\n",
       "│ 11     │ \"1840-04-01\" │ 13.965             │ 2.617                         │\n",
       "⋮\n",
       "│ 448665 │ \"2012-09-01\" │ 22.609             │ 0.643                         │\n",
       "│ 448666 │ \"2012-10-01\" │ 23.482             │ 0.574                         │\n",
       "│ 448667 │ \"2012-11-01\" │ 24.606             │ 0.532                         │\n",
       "│ 448668 │ \"2012-12-01\" │ 24.111             │ 0.846                         │\n",
       "│ 448669 │ \"2013-01-01\" │ 23.812             │ 1.218                         │\n",
       "│ 448670 │ \"2013-02-01\" │ 24.075             │ 1.286                         │\n",
       "│ 448671 │ \"2013-03-01\" │ 23.226             │ 0.564                         │\n",
       "│ 448672 │ \"2013-04-01\" │ 21.142             │ 0.495                         │\n",
       "│ 448673 │ \"2013-05-01\" │ 19.059             │ 1.022                         │\n",
       "│ 448674 │ \"2013-06-01\" │ 17.613             │ 0.473                         │\n",
       "│ 448675 │ \"2013-07-01\" │ 17.0               │ 0.453                         │\n",
       "│ 448676 │ \"2013-08-01\" │ 19.759             │ 0.717                         │\n",
       "\n",
       "│ Row    │ Country       │\n",
       "├────────┼───────────────┤\n",
       "│ 1      │ \"Afghanistan\" │\n",
       "│ 2      │ \"Afghanistan\" │\n",
       "│ 3      │ \"Afghanistan\" │\n",
       "│ 4      │ \"Afghanistan\" │\n",
       "│ 5      │ \"Afghanistan\" │\n",
       "│ 6      │ \"Afghanistan\" │\n",
       "│ 7      │ \"Afghanistan\" │\n",
       "│ 8      │ \"Afghanistan\" │\n",
       "│ 9      │ \"Afghanistan\" │\n",
       "│ 10     │ \"Afghanistan\" │\n",
       "│ 11     │ \"Afghanistan\" │\n",
       "⋮\n",
       "│ 448665 │ \"Zimbabwe\"    │\n",
       "│ 448666 │ \"Zimbabwe\"    │\n",
       "│ 448667 │ \"Zimbabwe\"    │\n",
       "│ 448668 │ \"Zimbabwe\"    │\n",
       "│ 448669 │ \"Zimbabwe\"    │\n",
       "│ 448670 │ \"Zimbabwe\"    │\n",
       "│ 448671 │ \"Zimbabwe\"    │\n",
       "│ 448672 │ \"Zimbabwe\"    │\n",
       "│ 448673 │ \"Zimbabwe\"    │\n",
       "│ 448674 │ \"Zimbabwe\"    │\n",
       "│ 448675 │ \"Zimbabwe\"    │\n",
       "│ 448676 │ \"Zimbabwe\"    │"
      ]
     },
     "execution_count": 2,
     "metadata": {},
     "output_type": "execute_result"
    }
   ],
   "source": [
    "# Import data\n",
    "tData = readtable(\"globalData.csv\")"
   ]
  },
  {
   "cell_type": "code",
   "execution_count": 3,
   "metadata": {
    "collapsed": false
   },
   "outputs": [],
   "source": [
    "year = String[];\n",
    "quarter = String[];\n",
    "for t in eachrow(tData)\n",
    "    y = t[:dt]\n",
    "    append!(year,[y[1:4]])\n",
    "    \n",
    "    if [y[6:7]] in ([\"01\"], [\"02\"], [\"03\"])\n",
    "        append!(quarter, [\"Q1\"])\n",
    "    elseif [y[6:7]] in ([\"04\"], [\"05\"], [\"06\"])\n",
    "        append!(quarter, [\"Q2\"])\n",
    "    elseif [y[6:7]] in ([\"07\"], [\"08\"], [\"09\"])\n",
    "        append!(quarter, [\"Q3\"])\n",
    "    elseif [y[6:7]] in ([\"10\"], [\"11\"], [\"12\"])\n",
    "        append!(quarter, [\"Q4\"])\n",
    "\n",
    "    end\n",
    "end"
   ]
  },
  {
   "cell_type": "code",
   "execution_count": 4,
   "metadata": {
    "collapsed": false
   },
   "outputs": [],
   "source": [
    "dateDF = DataFrame(Year = year, Quarter=quarter)\n",
    "tData[:Year] = dateDF[:Year]\n",
    "tData[:Quarter] = dateDF[:Quarter];"
   ]
  },
  {
   "cell_type": "code",
   "execution_count": 5,
   "metadata": {
    "collapsed": false
   },
   "outputs": [
    {
     "data": {
      "text/html": [
       "<table class=\"data-frame\"><thead><tr><th></th><th>dt</th><th>AverageTemperature</th><th>AverageTemperatureUncertainty</th><th>Country</th><th>Year</th><th>Quarter</th></tr></thead><tbody><tr><th>1</th><td>1838-04-01</td><td>13.008</td><td>2.5860000000000003</td><td>Afghanistan</td><td>1838</td><td>Q2</td></tr><tr><th>2</th><td>1838-06-01</td><td>23.95</td><td>2.51</td><td>Afghanistan</td><td>1838</td><td>Q2</td></tr><tr><th>3</th><td>1838-07-01</td><td>26.877</td><td>2.883</td><td>Afghanistan</td><td>1838</td><td>Q3</td></tr><tr><th>4</th><td>1838-08-01</td><td>24.938</td><td>2.992</td><td>Afghanistan</td><td>1838</td><td>Q3</td></tr><tr><th>5</th><td>1838-09-01</td><td>18.981</td><td>2.5380000000000003</td><td>Afghanistan</td><td>1838</td><td>Q3</td></tr><tr><th>6</th><td>1838-10-01</td><td>13.427999999999999</td><td>3.039</td><td>Afghanistan</td><td>1838</td><td>Q4</td></tr><tr><th>7</th><td>1838-11-01</td><td>7.475</td><td>2.744</td><td>Afghanistan</td><td>1838</td><td>Q4</td></tr><tr><th>8</th><td>1840-01-01</td><td>0.735</td><td>2.492</td><td>Afghanistan</td><td>1840</td><td>Q1</td></tr><tr><th>9</th><td>1840-02-01</td><td>1.6609999999999998</td><td>2.563</td><td>Afghanistan</td><td>1840</td><td>Q1</td></tr><tr><th>10</th><td>1840-03-01</td><td>6.513000000000001</td><td>2.402</td><td>Afghanistan</td><td>1840</td><td>Q1</td></tr><tr><th>11</th><td>1840-04-01</td><td>13.965</td><td>2.617</td><td>Afghanistan</td><td>1840</td><td>Q2</td></tr><tr><th>12</th><td>1840-05-01</td><td>19.618</td><td>2.516</td><td>Afghanistan</td><td>1840</td><td>Q2</td></tr><tr><th>13</th><td>1840-06-01</td><td>24.812</td><td>2.466</td><td>Afghanistan</td><td>1840</td><td>Q2</td></tr><tr><th>14</th><td>1840-07-01</td><td>27.739</td><td>2.353</td><td>Afghanistan</td><td>1840</td><td>Q3</td></tr><tr><th>15</th><td>1840-08-01</td><td>24.811999999999998</td><td>2.343</td><td>Afghanistan</td><td>1840</td><td>Q3</td></tr><tr><th>16</th><td>1840-09-01</td><td>18.989</td><td>2.366</td><td>Afghanistan</td><td>1840</td><td>Q3</td></tr><tr><th>17</th><td>1840-11-01</td><td>6.773</td><td>2.862</td><td>Afghanistan</td><td>1840</td><td>Q4</td></tr><tr><th>18</th><td>1840-12-01</td><td>1.931</td><td>2.542</td><td>Afghanistan</td><td>1840</td><td>Q4</td></tr><tr><th>19</th><td>1841-01-01</td><td>-0.8830000000000001</td><td>2.471</td><td>Afghanistan</td><td>1841</td><td>Q1</td></tr><tr><th>20</th><td>1841-03-01</td><td>5.521000000000001</td><td>3.008</td><td>Afghanistan</td><td>1841</td><td>Q1</td></tr><tr><th>21</th><td>1841-04-01</td><td>12.556</td><td>2.423</td><td>Afghanistan</td><td>1841</td><td>Q2</td></tr><tr><th>22</th><td>1841-05-01</td><td>19.614</td><td>2.322</td><td>Afghanistan</td><td>1841</td><td>Q2</td></tr><tr><th>23</th><td>1841-06-01</td><td>24.251</td><td>2.358</td><td>Afghanistan</td><td>1841</td><td>Q2</td></tr><tr><th>24</th><td>1841-07-01</td><td>27.104</td><td>2.445</td><td>Afghanistan</td><td>1841</td><td>Q3</td></tr><tr><th>25</th><td>1841-08-01</td><td>24.686999999999998</td><td>2.423</td><td>Afghanistan</td><td>1841</td><td>Q3</td></tr><tr><th>26</th><td>1841-09-01</td><td>19.014</td><td>2.325</td><td>Afghanistan</td><td>1841</td><td>Q3</td></tr><tr><th>27</th><td>1841-11-01</td><td>6.754</td><td>2.332</td><td>Afghanistan</td><td>1841</td><td>Q4</td></tr><tr><th>28</th><td>1841-12-01</td><td>1.3580000000000003</td><td>2.414</td><td>Afghanistan</td><td>1841</td><td>Q4</td></tr><tr><th>29</th><td>1842-03-01</td><td>9.488999999999999</td><td>2.6910000000000003</td><td>Afghanistan</td><td>1842</td><td>Q1</td></tr><tr><th>30</th><td>1842-04-01</td><td>14.983</td><td>2.428</td><td>Afghanistan</td><td>1842</td><td>Q2</td></tr><tr><th>&vellip;</th><td>&vellip;</td><td>&vellip;</td><td>&vellip;</td><td>&vellip;</td><td>&vellip;</td><td>&vellip;</td></tr></tbody></table>"
      ],
      "text/plain": [
       "448676×6 DataFrames.DataFrame\n",
       "│ Row    │ dt           │ AverageTemperature │ AverageTemperatureUncertainty │\n",
       "├────────┼──────────────┼────────────────────┼───────────────────────────────┤\n",
       "│ 1      │ \"1838-04-01\" │ 13.008             │ 2.586                         │\n",
       "│ 2      │ \"1838-06-01\" │ 23.95              │ 2.51                          │\n",
       "│ 3      │ \"1838-07-01\" │ 26.877             │ 2.883                         │\n",
       "│ 4      │ \"1838-08-01\" │ 24.938             │ 2.992                         │\n",
       "│ 5      │ \"1838-09-01\" │ 18.981             │ 2.538                         │\n",
       "│ 6      │ \"1838-10-01\" │ 13.428             │ 3.039                         │\n",
       "│ 7      │ \"1838-11-01\" │ 7.475              │ 2.744                         │\n",
       "│ 8      │ \"1840-01-01\" │ 0.735              │ 2.492                         │\n",
       "│ 9      │ \"1840-02-01\" │ 1.661              │ 2.563                         │\n",
       "│ 10     │ \"1840-03-01\" │ 6.513              │ 2.402                         │\n",
       "│ 11     │ \"1840-04-01\" │ 13.965             │ 2.617                         │\n",
       "⋮\n",
       "│ 448665 │ \"2012-09-01\" │ 22.609             │ 0.643                         │\n",
       "│ 448666 │ \"2012-10-01\" │ 23.482             │ 0.574                         │\n",
       "│ 448667 │ \"2012-11-01\" │ 24.606             │ 0.532                         │\n",
       "│ 448668 │ \"2012-12-01\" │ 24.111             │ 0.846                         │\n",
       "│ 448669 │ \"2013-01-01\" │ 23.812             │ 1.218                         │\n",
       "│ 448670 │ \"2013-02-01\" │ 24.075             │ 1.286                         │\n",
       "│ 448671 │ \"2013-03-01\" │ 23.226             │ 0.564                         │\n",
       "│ 448672 │ \"2013-04-01\" │ 21.142             │ 0.495                         │\n",
       "│ 448673 │ \"2013-05-01\" │ 19.059             │ 1.022                         │\n",
       "│ 448674 │ \"2013-06-01\" │ 17.613             │ 0.473                         │\n",
       "│ 448675 │ \"2013-07-01\" │ 17.0               │ 0.453                         │\n",
       "│ 448676 │ \"2013-08-01\" │ 19.759             │ 0.717                         │\n",
       "\n",
       "│ Row    │ Country       │ Year   │ Quarter │\n",
       "├────────┼───────────────┼────────┼─────────┤\n",
       "│ 1      │ \"Afghanistan\" │ \"1838\" │ \"Q2\"    │\n",
       "│ 2      │ \"Afghanistan\" │ \"1838\" │ \"Q2\"    │\n",
       "│ 3      │ \"Afghanistan\" │ \"1838\" │ \"Q3\"    │\n",
       "│ 4      │ \"Afghanistan\" │ \"1838\" │ \"Q3\"    │\n",
       "│ 5      │ \"Afghanistan\" │ \"1838\" │ \"Q3\"    │\n",
       "│ 6      │ \"Afghanistan\" │ \"1838\" │ \"Q4\"    │\n",
       "│ 7      │ \"Afghanistan\" │ \"1838\" │ \"Q4\"    │\n",
       "│ 8      │ \"Afghanistan\" │ \"1840\" │ \"Q1\"    │\n",
       "│ 9      │ \"Afghanistan\" │ \"1840\" │ \"Q1\"    │\n",
       "│ 10     │ \"Afghanistan\" │ \"1840\" │ \"Q1\"    │\n",
       "│ 11     │ \"Afghanistan\" │ \"1840\" │ \"Q2\"    │\n",
       "⋮\n",
       "│ 448665 │ \"Zimbabwe\"    │ \"2012\" │ \"Q3\"    │\n",
       "│ 448666 │ \"Zimbabwe\"    │ \"2012\" │ \"Q4\"    │\n",
       "│ 448667 │ \"Zimbabwe\"    │ \"2012\" │ \"Q4\"    │\n",
       "│ 448668 │ \"Zimbabwe\"    │ \"2012\" │ \"Q4\"    │\n",
       "│ 448669 │ \"Zimbabwe\"    │ \"2013\" │ \"Q1\"    │\n",
       "│ 448670 │ \"Zimbabwe\"    │ \"2013\" │ \"Q1\"    │\n",
       "│ 448671 │ \"Zimbabwe\"    │ \"2013\" │ \"Q1\"    │\n",
       "│ 448672 │ \"Zimbabwe\"    │ \"2013\" │ \"Q2\"    │\n",
       "│ 448673 │ \"Zimbabwe\"    │ \"2013\" │ \"Q2\"    │\n",
       "│ 448674 │ \"Zimbabwe\"    │ \"2013\" │ \"Q2\"    │\n",
       "│ 448675 │ \"Zimbabwe\"    │ \"2013\" │ \"Q3\"    │\n",
       "│ 448676 │ \"Zimbabwe\"    │ \"2013\" │ \"Q3\"    │"
      ]
     },
     "execution_count": 5,
     "metadata": {},
     "output_type": "execute_result"
    }
   ],
   "source": [
    "tData"
   ]
  },
  {
   "cell_type": "code",
   "execution_count": 6,
   "metadata": {
    "collapsed": false
   },
   "outputs": [],
   "source": [
    "df = DataFrame()\n",
    "countries = Set(tData[:Country]);\n",
    "years = Set(tData[:Year]);"
   ]
  },
  {
   "cell_type": "code",
   "execution_count": 50,
   "metadata": {
    "collapsed": false
   },
   "outputs": [],
   "source": [
    "cn = String[];\n",
    "avgt = Float64[];\n",
    "yn = String[];\n",
    "qn = String[];\n",
    "\n",
    "for c in countries\n",
    "    cData = tData[ (tData[:Country] .== c),:];\n",
    "    for y in years\n",
    "        yData = cData[ (cData[:Year] .== y), :];\n",
    "        if nrow(yData) > 0\n",
    "            for q in ([\"Q1\"], [\"Q2\"], [\"Q3\"], [\"Q4\"])\n",
    "                qData = yData[ (yData[:Quarter] .== q), :];\n",
    "                if nrow(qData) > 0 \n",
    "                    m = sum(qData[2]);\n",
    "                    mean = m / nrow(qData);\n",
    "                    append!(cn,[c]);\n",
    "                    append!(avgt,[mean]);\n",
    "                    append!(yn, [y]);\n",
    "                    append!(qn, q);\n",
    "                else\n",
    "                    for q in ([\"Q1\"], [\"Q2\"], [\"Q3\"], [\"Q4\"])\n",
    "                    append!(cn,[c]);\n",
    "                    append!(avgt,[9999]);\n",
    "                    append!(yn, [y]);\n",
    "                    append!(qn, q);\n",
    "                    end\n",
    "                end\n",
    "            end\n",
    "        else\n",
    "            for q in ([\"Q1\"], [\"Q2\"], [\"Q3\"], [\"Q4\"])\n",
    "                append!(cn,[c]);\n",
    "                append!(avgt,[9999]);\n",
    "                append!(yn, [y]);\n",
    "                append!(qn, q);\n",
    "            end\n",
    "        end\n",
    "    end\n",
    "end\n"
   ]
  },
  {
   "cell_type": "code",
   "execution_count": 51,
   "metadata": {
    "collapsed": false
   },
   "outputs": [
    {
     "data": {
      "text/html": [
       "<table class=\"data-frame\"><thead><tr><th></th><th>Country</th><th>Year</th><th>Quarter</th><th>AverageTemperature</th></tr></thead><tbody><tr><th>1</th><td>Poland</td><td>1880</td><td>Q1</td><td>-2.6680000000000006</td></tr><tr><th>2</th><td>Poland</td><td>1880</td><td>Q2</td><td>12.251</td></tr><tr><th>3</th><td>Poland</td><td>1880</td><td>Q3</td><td>16.903666666666666</td></tr><tr><th>4</th><td>Poland</td><td>1880</td><td>Q4</td><td>3.165333333333333</td></tr><tr><th>5</th><td>Poland</td><td>1798</td><td>Q1</td><td>-0.16100000000000003</td></tr><tr><th>6</th><td>Poland</td><td>1798</td><td>Q2</td><td>13.845333333333334</td></tr><tr><th>7</th><td>Poland</td><td>1798</td><td>Q3</td><td>17.954666666666668</td></tr><tr><th>8</th><td>Poland</td><td>1798</td><td>Q4</td><td>0.2159999999999996</td></tr><tr><th>9</th><td>Poland</td><td>1993</td><td>Q1</td><td>-0.15133333333333318</td></tr><tr><th>10</th><td>Poland</td><td>1993</td><td>Q2</td><td>13.551</td></tr><tr><th>11</th><td>Poland</td><td>1993</td><td>Q3</td><td>15.263</td></tr><tr><th>12</th><td>Poland</td><td>1993</td><td>Q4</td><td>2.661666666666666</td></tr><tr><th>13</th><td>Poland</td><td>1834</td><td>Q1</td><td>-0.539666666666667</td></tr><tr><th>14</th><td>Poland</td><td>1834</td><td>Q2</td><td>13.131666666666668</td></tr><tr><th>15</th><td>Poland</td><td>1834</td><td>Q3</td><td>19.08066666666667</td></tr><tr><th>16</th><td>Poland</td><td>1834</td><td>Q4</td><td>3.231</td></tr><tr><th>17</th><td>Poland</td><td>1990</td><td>Q1</td><td>4.207666666666666</td></tr><tr><th>18</th><td>Poland</td><td>1990</td><td>Q2</td><td>12.859</td></tr><tr><th>19</th><td>Poland</td><td>1990</td><td>Q3</td><td>15.557666666666668</td></tr><tr><th>20</th><td>Poland</td><td>1990</td><td>Q4</td><td>4.3023333333333325</td></tr><tr><th>21</th><td>Poland</td><td>1804</td><td>Q1</td><td>-2.1376666666666666</td></tr><tr><th>22</th><td>Poland</td><td>1804</td><td>Q2</td><td>12.292333333333334</td></tr><tr><th>23</th><td>Poland</td><td>1804</td><td>Q3</td><td>17.05333333333333</td></tr><tr><th>24</th><td>Poland</td><td>1804</td><td>Q4</td><td>0.18366666666666673</td></tr><tr><th>25</th><td>Poland</td><td>1827</td><td>Q1</td><td>-2.7873333333333328</td></tr><tr><th>26</th><td>Poland</td><td>1827</td><td>Q2</td><td>14.532333333333334</td></tr><tr><th>27</th><td>Poland</td><td>1827</td><td>Q3</td><td>16.672</td></tr><tr><th>28</th><td>Poland</td><td>1827</td><td>Q4</td><td>2.9599999999999995</td></tr><tr><th>29</th><td>Poland</td><td>1971</td><td>Q1</td><td>-1.8423333333333334</td></tr><tr><th>30</th><td>Poland</td><td>1971</td><td>Q2</td><td>12.683333333333332</td></tr><tr><th>&vellip;</th><td>&vellip;</td><td>&vellip;</td><td>&vellip;</td><td>&vellip;</td></tr></tbody></table>"
      ],
      "text/plain": [
       "214743×4 DataFrames.DataFrame\n",
       "│ Row    │ Country   │ Year   │ Quarter │ AverageTemperature │\n",
       "├────────┼───────────┼────────┼─────────┼────────────────────┤\n",
       "│ 1      │ \"Poland\"  │ \"1880\" │ \"Q1\"    │ -2.668             │\n",
       "│ 2      │ \"Poland\"  │ \"1880\" │ \"Q2\"    │ 12.251             │\n",
       "│ 3      │ \"Poland\"  │ \"1880\" │ \"Q3\"    │ 16.9037            │\n",
       "│ 4      │ \"Poland\"  │ \"1880\" │ \"Q4\"    │ 3.16533            │\n",
       "│ 5      │ \"Poland\"  │ \"1798\" │ \"Q1\"    │ -0.161             │\n",
       "│ 6      │ \"Poland\"  │ \"1798\" │ \"Q2\"    │ 13.8453            │\n",
       "│ 7      │ \"Poland\"  │ \"1798\" │ \"Q3\"    │ 17.9547            │\n",
       "│ 8      │ \"Poland\"  │ \"1798\" │ \"Q4\"    │ 0.216              │\n",
       "│ 9      │ \"Poland\"  │ \"1993\" │ \"Q1\"    │ -0.151333          │\n",
       "│ 10     │ \"Poland\"  │ \"1993\" │ \"Q2\"    │ 13.551             │\n",
       "│ 11     │ \"Poland\"  │ \"1993\" │ \"Q3\"    │ 15.263             │\n",
       "⋮\n",
       "│ 214732 │ \"Ukraine\" │ \"1743\" │ \"Q2\"    │ 9999.0             │\n",
       "│ 214733 │ \"Ukraine\" │ \"1743\" │ \"Q3\"    │ 9999.0             │\n",
       "│ 214734 │ \"Ukraine\" │ \"1743\" │ \"Q4\"    │ 9999.0             │\n",
       "│ 214735 │ \"Ukraine\" │ \"1743\" │ \"Q1\"    │ 9999.0             │\n",
       "│ 214736 │ \"Ukraine\" │ \"1743\" │ \"Q2\"    │ 9999.0             │\n",
       "│ 214737 │ \"Ukraine\" │ \"1743\" │ \"Q3\"    │ 9999.0             │\n",
       "│ 214738 │ \"Ukraine\" │ \"1743\" │ \"Q4\"    │ 9999.0             │\n",
       "│ 214739 │ \"Ukraine\" │ \"1743\" │ \"Q1\"    │ 9999.0             │\n",
       "│ 214740 │ \"Ukraine\" │ \"1743\" │ \"Q2\"    │ 9999.0             │\n",
       "│ 214741 │ \"Ukraine\" │ \"1743\" │ \"Q3\"    │ 9999.0             │\n",
       "│ 214742 │ \"Ukraine\" │ \"1743\" │ \"Q4\"    │ 9999.0             │\n",
       "│ 214743 │ \"Ukraine\" │ \"1743\" │ \"Q4\"    │ 1.898              │"
      ]
     },
     "execution_count": 51,
     "metadata": {},
     "output_type": "execute_result"
    }
   ],
   "source": [
    "dateDF = DataFrame(Country = cn, Year = yn, Quarter = qn, AverageTemperature = avgt)\n"
   ]
  },
  {
   "cell_type": "code",
   "execution_count": 53,
   "metadata": {
    "collapsed": true
   },
   "outputs": [],
   "source": [
    "# Write new file\n",
    "writetable(\"averageTempByCountry.csv\", dateDF)"
   ]
  }
 ],
 "metadata": {
  "kernelspec": {
   "display_name": "Julia 0.6.0",
   "language": "julia",
   "name": "julia-0.6"
  },
  "language_info": {
   "file_extension": ".jl",
   "mimetype": "application/julia",
   "name": "julia",
   "version": "0.6.0"
  }
 },
 "nbformat": 4,
 "nbformat_minor": 0
}
